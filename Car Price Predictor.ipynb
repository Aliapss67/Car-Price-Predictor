{
 "cells": [
  {
   "cell_type": "code",
   "execution_count": 3,
   "id": "d4076b3b",
   "metadata": {},
   "outputs": [],
   "source": [
    "import numpy as np\n",
    "import pandas as pd"
   ]
  },
  {
   "cell_type": "code",
   "execution_count": 4,
   "id": "84c663b6",
   "metadata": {},
   "outputs": [],
   "source": [
    "data=pd.read_csv(\"C:\\\\Users\\\\fasy\\\\Downloads\\\\cars.csv\")"
   ]
  },
  {
   "cell_type": "code",
   "execution_count": 5,
   "id": "dcc46cdf",
   "metadata": {},
   "outputs": [
    {
     "data": {
      "text/html": [
       "<div>\n",
       "<style scoped>\n",
       "    .dataframe tbody tr th:only-of-type {\n",
       "        vertical-align: middle;\n",
       "    }\n",
       "\n",
       "    .dataframe tbody tr th {\n",
       "        vertical-align: top;\n",
       "    }\n",
       "\n",
       "    .dataframe thead th {\n",
       "        text-align: right;\n",
       "    }\n",
       "</style>\n",
       "<table border=\"1\" class=\"dataframe\">\n",
       "  <thead>\n",
       "    <tr style=\"text-align: right;\">\n",
       "      <th></th>\n",
       "      <th>enginesize</th>\n",
       "      <th>carlength</th>\n",
       "      <th>carwidth</th>\n",
       "      <th>carheight</th>\n",
       "      <th>price</th>\n",
       "    </tr>\n",
       "  </thead>\n",
       "  <tbody>\n",
       "    <tr>\n",
       "      <th>0</th>\n",
       "      <td>130</td>\n",
       "      <td>168.8</td>\n",
       "      <td>64.1</td>\n",
       "      <td>48.8</td>\n",
       "      <td>13495</td>\n",
       "    </tr>\n",
       "    <tr>\n",
       "      <th>1</th>\n",
       "      <td>130</td>\n",
       "      <td>168.8</td>\n",
       "      <td>64.1</td>\n",
       "      <td>48.8</td>\n",
       "      <td>16500</td>\n",
       "    </tr>\n",
       "    <tr>\n",
       "      <th>2</th>\n",
       "      <td>152</td>\n",
       "      <td>171.2</td>\n",
       "      <td>65.5</td>\n",
       "      <td>52.4</td>\n",
       "      <td>16500</td>\n",
       "    </tr>\n",
       "    <tr>\n",
       "      <th>3</th>\n",
       "      <td>109</td>\n",
       "      <td>176.6</td>\n",
       "      <td>66.2</td>\n",
       "      <td>54.3</td>\n",
       "      <td>13950</td>\n",
       "    </tr>\n",
       "    <tr>\n",
       "      <th>4</th>\n",
       "      <td>136</td>\n",
       "      <td>176.6</td>\n",
       "      <td>66.4</td>\n",
       "      <td>54.3</td>\n",
       "      <td>17450</td>\n",
       "    </tr>\n",
       "    <tr>\n",
       "      <th>...</th>\n",
       "      <td>...</td>\n",
       "      <td>...</td>\n",
       "      <td>...</td>\n",
       "      <td>...</td>\n",
       "      <td>...</td>\n",
       "    </tr>\n",
       "    <tr>\n",
       "      <th>94</th>\n",
       "      <td>97</td>\n",
       "      <td>165.3</td>\n",
       "      <td>63.8</td>\n",
       "      <td>54.5</td>\n",
       "      <td>7299</td>\n",
       "    </tr>\n",
       "    <tr>\n",
       "      <th>95</th>\n",
       "      <td>97</td>\n",
       "      <td>165.6</td>\n",
       "      <td>63.8</td>\n",
       "      <td>53.3</td>\n",
       "      <td>7799</td>\n",
       "    </tr>\n",
       "    <tr>\n",
       "      <th>96</th>\n",
       "      <td>97</td>\n",
       "      <td>165.3</td>\n",
       "      <td>63.8</td>\n",
       "      <td>54.5</td>\n",
       "      <td>7499</td>\n",
       "    </tr>\n",
       "    <tr>\n",
       "      <th>97</th>\n",
       "      <td>97</td>\n",
       "      <td>170.2</td>\n",
       "      <td>63.8</td>\n",
       "      <td>53.5</td>\n",
       "      <td>7999</td>\n",
       "    </tr>\n",
       "    <tr>\n",
       "      <th>98</th>\n",
       "      <td>97</td>\n",
       "      <td>162.4</td>\n",
       "      <td>63.8</td>\n",
       "      <td>53.3</td>\n",
       "      <td>8249</td>\n",
       "    </tr>\n",
       "  </tbody>\n",
       "</table>\n",
       "<p>99 rows × 5 columns</p>\n",
       "</div>"
      ],
      "text/plain": [
       "    enginesize  carlength  carwidth  carheight  price\n",
       "0          130      168.8      64.1       48.8  13495\n",
       "1          130      168.8      64.1       48.8  16500\n",
       "2          152      171.2      65.5       52.4  16500\n",
       "3          109      176.6      66.2       54.3  13950\n",
       "4          136      176.6      66.4       54.3  17450\n",
       "..         ...        ...       ...        ...    ...\n",
       "94          97      165.3      63.8       54.5   7299\n",
       "95          97      165.6      63.8       53.3   7799\n",
       "96          97      165.3      63.8       54.5   7499\n",
       "97          97      170.2      63.8       53.5   7999\n",
       "98          97      162.4      63.8       53.3   8249\n",
       "\n",
       "[99 rows x 5 columns]"
      ]
     },
     "execution_count": 5,
     "metadata": {},
     "output_type": "execute_result"
    }
   ],
   "source": [
    "data"
   ]
  },
  {
   "cell_type": "code",
   "execution_count": 5,
   "id": "53b33069",
   "metadata": {},
   "outputs": [],
   "source": [
    "x=data[[\"enginesize\",\"carheight\"]].values\n",
    "y=data[\"price\"].values\n",
    "a=data[[\"carlength\",\"carwidth\"]].values"
   ]
  },
  {
   "cell_type": "code",
   "execution_count": 8,
   "id": "ceac3169",
   "metadata": {},
   "outputs": [],
   "source": [
    "class LinearRrgression:\n",
    "    def __init__(self,lrate=0.01,iterations=1000):\n",
    "        self.lrate=lrate\n",
    "        self.iterations=iterations\n",
    "    def fitGD(self,x,y):\n",
    "        self.cost=[]\n",
    "        self.theta=np.zeros((1+x.shape[1]))\n",
    "        n=x.shape[0]\n",
    "        \n",
    "        \n",
    "        for i in range(self.iterations):\n",
    "            yperd=self.theta[0]+np.dot(x,self.theta[1:])\n",
    "            mse=(1/n)*np.sum((yperd-y)**2)\n",
    "            self.cost.append(mse)\n",
    "            \n",
    "            dtheta1=(2/n)*np.dot(x.T,(yperd-y))\n",
    "            dtheta0=(2/n)*np.sum(yperd-y)\n",
    "            \n",
    "        \n",
    "            self.theta[1:]=self.theta[1:]-self.lrate*dtheta1\n",
    "            self.theta[0]=self.theta[0]-self.lrate*dtheta0\n",
    "        return self\n",
    "    def predictGD(self,x):\n",
    "        return self.theta[0]+np.dot(x,self.theta[1:])\n",
    "    \n",
    "    def fitNQ(self,x,y):\n",
    "        z=np.ones((x.shape[0],1))\n",
    "        x=np.append(z,x,axis=1)\n",
    "        self.thetas=np.linalg.pinv(x.T.dot(x)).dot(x.T).dot(y)\n",
    "        return self\n",
    "    \n",
    "        \n",
    "        \n",
    "    def perdictNpQ(self,x):\n",
    "        z=np.ones((x.shape[0],1))\n",
    "        x=np.append(z,x,axis=1)\n",
    "        return np.dot(x,self.thetas)\n",
    "            "
   ]
  },
  {
   "cell_type": "code",
   "execution_count": 10,
   "id": "d6bee65d",
   "metadata": {},
   "outputs": [],
   "source": [
    "def scale(x):\n",
    "    x_scaled=x-np.mean(x,axis=0)\n",
    "    x_scaled=x_scaled/np.std(x_scaled,axis=0)\n",
    "    return x_scaled"
   ]
  },
  {
   "cell_type": "code",
   "execution_count": 11,
   "id": "2808994c",
   "metadata": {},
   "outputs": [
    {
     "data": {
      "text/plain": [
       "<__main__.LinearRrgression at 0x21d6f97ead0>"
      ]
     },
     "execution_count": 11,
     "metadata": {},
     "output_type": "execute_result"
    }
   ],
   "source": [
    "x_sd=scale(x)\n",
    "lr=LinearRrgression()\n",
    "lr.fitGD(x_sd,y)\n",
    "lr.fitNQ(x,y)"
   ]
  },
  {
   "cell_type": "code",
   "execution_count": 12,
   "id": "970b8e5e",
   "metadata": {},
   "outputs": [],
   "source": [
    "y_pred=lr.predictGD(x_sd)\n",
    "y_predNQ=lr.perdictNpQ(x)"
   ]
  },
  {
   "cell_type": "code",
   "execution_count": 13,
   "id": "6c60dee6",
   "metadata": {},
   "outputs": [],
   "source": [
    "errors=np.sum((y_pred-y)**2)\n",
    "sst=np.sum((y-np.mean(y))**2)\n",
    "r2_GD=1-(errors/sst)\n",
    "adjsted_GD=1-((1-r2_GD)*(x.shape[0]-1)/(x.shape[0]-x.shape[1]-1))"
   ]
  },
  {
   "cell_type": "code",
   "execution_count": 14,
   "id": "0d4117c1",
   "metadata": {},
   "outputs": [],
   "source": [
    "errors=np.sum((y_predNQ-y)**2)\n",
    "sst=np.sum((y-np.mean(y))**2)\n",
    "r2_NQ=1-(errors/sst)\n",
    "adjsted_NQ=1-((1-r2_NQ)*(x.shape[0]-1)/(x.shape[0]-x.shape[1]-1))"
   ]
  },
  {
   "cell_type": "code",
   "execution_count": 15,
   "id": "1b4c26b7",
   "metadata": {},
   "outputs": [
    {
     "name": "stdout",
     "output_type": "stream",
     "text": [
      "0.8382745508251331\n",
      "0.838274550825138\n"
     ]
    }
   ],
   "source": [
    "print(adjsted_GD)\n",
    "print(adjsted_NQ)\n"
   ]
  }
 ],
 "metadata": {
  "kernelspec": {
   "display_name": "Python 3 (ipykernel)",
   "language": "python",
   "name": "python3"
  },
  "language_info": {
   "codemirror_mode": {
    "name": "ipython",
    "version": 3
   },
   "file_extension": ".py",
   "mimetype": "text/x-python",
   "name": "python",
   "nbconvert_exporter": "python",
   "pygments_lexer": "ipython3",
   "version": "3.11.4"
  }
 },
 "nbformat": 4,
 "nbformat_minor": 5
}
